{
  "nbformat": 4,
  "nbformat_minor": 0,
  "metadata": {
    "colab": {
      "name": "Nabiila - Practice Case - EDA.ipynb",
      "provenance": [],
      "collapsed_sections": [
        "Ur48ddrs9YAy",
        "AvJg13Y--UTh",
        "CGBit80zRKgW",
        "wXj-SuD5TbCr",
        "ESkvbiHyT-5t",
        "qzSgmB_dMsLw",
        "ZRSNIoBhPD_x",
        "6K5sffEzJhHL"
      ],
      "authorship_tag": "ABX9TyORqHVqqOhA5aND7C1bx6tW",
      "include_colab_link": true
    },
    "kernelspec": {
      "name": "python3",
      "display_name": "Python 3"
    }
  },
  "cells": [
    {
      "cell_type": "markdown",
      "metadata": {
        "id": "view-in-github",
        "colab_type": "text"
      },
      "source": [
        "<a href=\"https://colab.research.google.com/github/nabiila-29/data-fellowship-5/blob/main/Nabiila_Practice_Case_EDA.ipynb\" target=\"_parent\"><img src=\"https://colab.research.google.com/assets/colab-badge.svg\" alt=\"Open In Colab\"/></a>"
      ]
    },
    {
      "cell_type": "markdown",
      "metadata": {
        "id": "Ur48ddrs9YAy"
      },
      "source": [
        "# 0. Data Preprocessing"
      ]
    },
    {
      "cell_type": "code",
      "metadata": {
        "id": "xyGWVHHH7t8g"
      },
      "source": [
        "import pandas as pd"
      ],
      "execution_count": 1,
      "outputs": []
    },
    {
      "cell_type": "code",
      "metadata": {
        "colab": {
          "base_uri": "https://localhost:8080/",
          "height": 351
        },
        "id": "54Ln-Zdd8Kjd",
        "outputId": "e0d11f60-3874-438d-9428-aa460a670c20"
      },
      "source": [
        "df = pd.read_csv(\"epl_1819-eda.csv\", thousands=\",\")\r\n",
        "df.head()"
      ],
      "execution_count": 27,
      "outputs": [
        {
          "output_type": "execute_result",
          "data": {
            "text/html": [
              "<div>\n",
              "<style scoped>\n",
              "    .dataframe tbody tr th:only-of-type {\n",
              "        vertical-align: middle;\n",
              "    }\n",
              "\n",
              "    .dataframe tbody tr th {\n",
              "        vertical-align: top;\n",
              "    }\n",
              "\n",
              "    .dataframe thead th {\n",
              "        text-align: right;\n",
              "    }\n",
              "</style>\n",
              "<table border=\"1\" class=\"dataframe\">\n",
              "  <thead>\n",
              "    <tr style=\"text-align: right;\">\n",
              "      <th></th>\n",
              "      <th>Team</th>\n",
              "      <th>category</th>\n",
              "      <th>general_league_position</th>\n",
              "      <th>finance _live_games_televised</th>\n",
              "      <th>finance _tv_revenue</th>\n",
              "      <th>general_matches_played</th>\n",
              "      <th>general_won</th>\n",
              "      <th>general_draw</th>\n",
              "      <th>general_lost</th>\n",
              "      <th>attack_scored</th>\n",
              "      <th>defence_goals_conceeded</th>\n",
              "      <th>general_goal_difference</th>\n",
              "      <th>general_points</th>\n",
              "      <th>general_squad_size</th>\n",
              "      <th>general_squad_average_age</th>\n",
              "      <th>general_squad_foreigners</th>\n",
              "      <th>finance _team_market</th>\n",
              "      <th>finance _market_average</th>\n",
              "      <th>attack_passes</th>\n",
              "      <th>attack_passes_through</th>\n",
              "      <th>attack_passes_long</th>\n",
              "      <th>attack_passes_back</th>\n",
              "      <th>attack_crosses</th>\n",
              "      <th>attack_corners_taken</th>\n",
              "      <th>attack_shots</th>\n",
              "      <th>attack_shots_on_target</th>\n",
              "      <th>attack_goals_headed</th>\n",
              "      <th>attack_goals_penalty</th>\n",
              "      <th>attack_goals_box</th>\n",
              "      <th>attack_goals_outsidebox</th>\n",
              "      <th>general_card_yellow</th>\n",
              "      <th>general_card_red</th>\n",
              "      <th>attack_goals_counter</th>\n",
              "      <th>attack_goals_freekick</th>\n",
              "      <th>defence_saves</th>\n",
              "      <th>defence_blocks</th>\n",
              "      <th>defence_interceptions</th>\n",
              "      <th>defence_tackles</th>\n",
              "      <th>defence_tackles_last_man</th>\n",
              "      <th>defence_clearances</th>\n",
              "      <th>defence_clearances_headed</th>\n",
              "      <th>defence_penalty_conceeded</th>\n",
              "      <th>attack_posession</th>\n",
              "      <th>attack_pass_accuracy</th>\n",
              "    </tr>\n",
              "  </thead>\n",
              "  <tbody>\n",
              "    <tr>\n",
              "      <th>0</th>\n",
              "      <td>Manchester City</td>\n",
              "      <td>Champions League</td>\n",
              "      <td>1</td>\n",
              "      <td>26</td>\n",
              "      <td>150986355</td>\n",
              "      <td>38</td>\n",
              "      <td>32</td>\n",
              "      <td>2</td>\n",
              "      <td>4</td>\n",
              "      <td>95</td>\n",
              "      <td>23</td>\n",
              "      <td>72</td>\n",
              "      <td>98</td>\n",
              "      <td>25</td>\n",
              "      <td>27.1</td>\n",
              "      <td>20</td>\n",
              "      <td>1003200000</td>\n",
              "      <td>39987200</td>\n",
              "      <td>26581</td>\n",
              "      <td>112</td>\n",
              "      <td>1814</td>\n",
              "      <td>4240</td>\n",
              "      <td>783</td>\n",
              "      <td>298</td>\n",
              "      <td>683</td>\n",
              "      <td>260</td>\n",
              "      <td>12</td>\n",
              "      <td>3</td>\n",
              "      <td>80</td>\n",
              "      <td>15</td>\n",
              "      <td>44</td>\n",
              "      <td>1</td>\n",
              "      <td>5</td>\n",
              "      <td>2</td>\n",
              "      <td>58</td>\n",
              "      <td>63</td>\n",
              "      <td>362</td>\n",
              "      <td>518</td>\n",
              "      <td>0</td>\n",
              "      <td>543</td>\n",
              "      <td>295</td>\n",
              "      <td>4</td>\n",
              "      <td>64.0</td>\n",
              "      <td>89.0</td>\n",
              "    </tr>\n",
              "    <tr>\n",
              "      <th>1</th>\n",
              "      <td>Liverpool</td>\n",
              "      <td>Champions League</td>\n",
              "      <td>2</td>\n",
              "      <td>29</td>\n",
              "      <td>152425146</td>\n",
              "      <td>38</td>\n",
              "      <td>30</td>\n",
              "      <td>7</td>\n",
              "      <td>1</td>\n",
              "      <td>89</td>\n",
              "      <td>22</td>\n",
              "      <td>67</td>\n",
              "      <td>97</td>\n",
              "      <td>24</td>\n",
              "      <td>26.8</td>\n",
              "      <td>16</td>\n",
              "      <td>836440000</td>\n",
              "      <td>34848000</td>\n",
              "      <td>23638</td>\n",
              "      <td>98</td>\n",
              "      <td>2250</td>\n",
              "      <td>3416</td>\n",
              "      <td>721</td>\n",
              "      <td>249</td>\n",
              "      <td>575</td>\n",
              "      <td>226</td>\n",
              "      <td>19</td>\n",
              "      <td>7</td>\n",
              "      <td>84</td>\n",
              "      <td>5</td>\n",
              "      <td>38</td>\n",
              "      <td>2</td>\n",
              "      <td>6</td>\n",
              "      <td>1</td>\n",
              "      <td>76</td>\n",
              "      <td>78</td>\n",
              "      <td>314</td>\n",
              "      <td>610</td>\n",
              "      <td>2</td>\n",
              "      <td>639</td>\n",
              "      <td>317</td>\n",
              "      <td>1</td>\n",
              "      <td>58.8</td>\n",
              "      <td>84.4</td>\n",
              "    </tr>\n",
              "    <tr>\n",
              "      <th>2</th>\n",
              "      <td>Chelsea</td>\n",
              "      <td>Champions League Qualification</td>\n",
              "      <td>3</td>\n",
              "      <td>25</td>\n",
              "      <td>146030216</td>\n",
              "      <td>38</td>\n",
              "      <td>21</td>\n",
              "      <td>9</td>\n",
              "      <td>8</td>\n",
              "      <td>63</td>\n",
              "      <td>39</td>\n",
              "      <td>24</td>\n",
              "      <td>72</td>\n",
              "      <td>26</td>\n",
              "      <td>28.1</td>\n",
              "      <td>19</td>\n",
              "      <td>779460000</td>\n",
              "      <td>29981600</td>\n",
              "      <td>25070</td>\n",
              "      <td>146</td>\n",
              "      <td>1774</td>\n",
              "      <td>3874</td>\n",
              "      <td>692</td>\n",
              "      <td>215</td>\n",
              "      <td>607</td>\n",
              "      <td>198</td>\n",
              "      <td>8</td>\n",
              "      <td>5</td>\n",
              "      <td>54</td>\n",
              "      <td>9</td>\n",
              "      <td>49</td>\n",
              "      <td>0</td>\n",
              "      <td>1</td>\n",
              "      <td>1</td>\n",
              "      <td>85</td>\n",
              "      <td>73</td>\n",
              "      <td>351</td>\n",
              "      <td>618</td>\n",
              "      <td>2</td>\n",
              "      <td>593</td>\n",
              "      <td>330</td>\n",
              "      <td>2</td>\n",
              "      <td>59.9</td>\n",
              "      <td>87.6</td>\n",
              "    </tr>\n",
              "    <tr>\n",
              "      <th>3</th>\n",
              "      <td>Tottenham</td>\n",
              "      <td>Champions League Qualification</td>\n",
              "      <td>4</td>\n",
              "      <td>26</td>\n",
              "      <td>145230801</td>\n",
              "      <td>38</td>\n",
              "      <td>23</td>\n",
              "      <td>2</td>\n",
              "      <td>13</td>\n",
              "      <td>67</td>\n",
              "      <td>39</td>\n",
              "      <td>28</td>\n",
              "      <td>71</td>\n",
              "      <td>25</td>\n",
              "      <td>27.0</td>\n",
              "      <td>17</td>\n",
              "      <td>735240000</td>\n",
              "      <td>29409600</td>\n",
              "      <td>21295</td>\n",
              "      <td>87</td>\n",
              "      <td>2267</td>\n",
              "      <td>3191</td>\n",
              "      <td>643</td>\n",
              "      <td>194</td>\n",
              "      <td>537</td>\n",
              "      <td>189</td>\n",
              "      <td>14</td>\n",
              "      <td>4</td>\n",
              "      <td>53</td>\n",
              "      <td>14</td>\n",
              "      <td>56</td>\n",
              "      <td>3</td>\n",
              "      <td>5</td>\n",
              "      <td>2</td>\n",
              "      <td>121</td>\n",
              "      <td>112</td>\n",
              "      <td>326</td>\n",
              "      <td>626</td>\n",
              "      <td>3</td>\n",
              "      <td>770</td>\n",
              "      <td>411</td>\n",
              "      <td>5</td>\n",
              "      <td>56.7</td>\n",
              "      <td>83.2</td>\n",
              "    </tr>\n",
              "    <tr>\n",
              "      <th>4</th>\n",
              "      <td>Arsenal</td>\n",
              "      <td>Europa League</td>\n",
              "      <td>5</td>\n",
              "      <td>25</td>\n",
              "      <td>142193180</td>\n",
              "      <td>38</td>\n",
              "      <td>21</td>\n",
              "      <td>7</td>\n",
              "      <td>10</td>\n",
              "      <td>73</td>\n",
              "      <td>51</td>\n",
              "      <td>22</td>\n",
              "      <td>70</td>\n",
              "      <td>26</td>\n",
              "      <td>27.5</td>\n",
              "      <td>18</td>\n",
              "      <td>701800000</td>\n",
              "      <td>26989600</td>\n",
              "      <td>20805</td>\n",
              "      <td>65</td>\n",
              "      <td>2062</td>\n",
              "      <td>3102</td>\n",
              "      <td>605</td>\n",
              "      <td>209</td>\n",
              "      <td>467</td>\n",
              "      <td>170</td>\n",
              "      <td>5</td>\n",
              "      <td>4</td>\n",
              "      <td>62</td>\n",
              "      <td>11</td>\n",
              "      <td>72</td>\n",
              "      <td>2</td>\n",
              "      <td>3</td>\n",
              "      <td>3</td>\n",
              "      <td>133</td>\n",
              "      <td>118</td>\n",
              "      <td>412</td>\n",
              "      <td>609</td>\n",
              "      <td>2</td>\n",
              "      <td>762</td>\n",
              "      <td>404</td>\n",
              "      <td>7</td>\n",
              "      <td>56.1</td>\n",
              "      <td>83.3</td>\n",
              "    </tr>\n",
              "  </tbody>\n",
              "</table>\n",
              "</div>"
            ],
            "text/plain": [
              "              Team  ... attack_pass_accuracy\n",
              "0  Manchester City  ...                 89.0\n",
              "1        Liverpool  ...                 84.4\n",
              "2          Chelsea  ...                 87.6\n",
              "3        Tottenham  ...                 83.2\n",
              "4          Arsenal  ...                 83.3\n",
              "\n",
              "[5 rows x 44 columns]"
            ]
          },
          "metadata": {
            "tags": []
          },
          "execution_count": 27
        }
      ]
    },
    {
      "cell_type": "markdown",
      "metadata": {
        "id": "AvJg13Y--UTh"
      },
      "source": [
        "# 1. Whether this data is clean?\r\n"
      ]
    },
    {
      "cell_type": "code",
      "metadata": {
        "colab": {
          "base_uri": "https://localhost:8080/"
        },
        "id": "ngde2r2n9uns",
        "outputId": "cef2d471-06ad-4f6b-f762-5b3fd7656509"
      },
      "source": [
        "df.isnull().sum()                                 #check the missing value "
      ],
      "execution_count": 28,
      "outputs": [
        {
          "output_type": "execute_result",
          "data": {
            "text/plain": [
              "Team                             0\n",
              "category                         0\n",
              "general_league_position          0\n",
              "finance _live_games_televised    0\n",
              "finance _tv_revenue              0\n",
              "general_matches_played           0\n",
              "general_won                      0\n",
              "general_draw                     0\n",
              "general_lost                     0\n",
              "attack_scored                    0\n",
              "defence_goals_conceeded          0\n",
              "general_goal_difference          0\n",
              "general_points                   0\n",
              "general_squad_size               0\n",
              "general_squad_average_age        0\n",
              "general_squad_foreigners         0\n",
              "finance _team_market             0\n",
              "finance _market_average          0\n",
              "attack_passes                    0\n",
              "attack_passes_through            0\n",
              "attack_passes_long               0\n",
              "attack_passes_back               0\n",
              "attack_crosses                   0\n",
              "attack_corners_taken             0\n",
              "attack_shots                     0\n",
              "attack_shots_on_target           0\n",
              "attack_goals_headed              0\n",
              "attack_goals_penalty             0\n",
              "attack_goals_box                 0\n",
              "attack_goals_outsidebox          0\n",
              "general_card_yellow              0\n",
              "general_card_red                 0\n",
              "attack_goals_counter             0\n",
              "attack_goals_freekick            0\n",
              "defence_saves                    0\n",
              "defence_blocks                   0\n",
              "defence_interceptions            0\n",
              "defence_tackles                  0\n",
              "defence_tackles_last_man         0\n",
              "defence_clearances               0\n",
              "defence_clearances_headed        0\n",
              "defence_penalty_conceeded        0\n",
              "attack_posession                 0\n",
              "attack_pass_accuracy             0\n",
              "dtype: int64"
            ]
          },
          "metadata": {
            "tags": []
          },
          "execution_count": 28
        }
      ]
    },
    {
      "cell_type": "markdown",
      "metadata": {
        "id": "gOd3A5k3-j8y"
      },
      "source": [
        "There is no missing value. The data is clean"
      ]
    },
    {
      "cell_type": "markdown",
      "metadata": {
        "id": "CGBit80zRKgW"
      },
      "source": [
        "# 2. How is the point distribution of the epl team? and which team is an anomaly?\r\n",
        " "
      ]
    },
    {
      "cell_type": "markdown",
      "metadata": {
        "id": "49QnauBkRFLk"
      },
      "source": [
        "## 1st Normality Test (Histogram)"
      ]
    },
    {
      "cell_type": "code",
      "metadata": {
        "id": "WzvjyL21-zXM"
      },
      "source": [
        "# Import the libraries\r\n",
        "import seaborn as sns"
      ],
      "execution_count": 29,
      "outputs": []
    },
    {
      "cell_type": "code",
      "metadata": {
        "colab": {
          "base_uri": "https://localhost:8080/",
          "height": 353
        },
        "id": "AeSw277JG7Mp",
        "outputId": "3150a6ff-88a3-4101-9390-2cf1c4c88d5c"
      },
      "source": [
        "sns.distplot(df.general_points)"
      ],
      "execution_count": 30,
      "outputs": [
        {
          "output_type": "stream",
          "text": [
            "/usr/local/lib/python3.7/dist-packages/seaborn/distributions.py:2557: FutureWarning: `distplot` is a deprecated function and will be removed in a future version. Please adapt your code to use either `displot` (a figure-level function with similar flexibility) or `histplot` (an axes-level function for histograms).\n",
            "  warnings.warn(msg, FutureWarning)\n"
          ],
          "name": "stderr"
        },
        {
          "output_type": "execute_result",
          "data": {
            "text/plain": [
              "<matplotlib.axes._subplots.AxesSubplot at 0x7f2844aaf0d0>"
            ]
          },
          "metadata": {
            "tags": []
          },
          "execution_count": 30
        },
        {
          "output_type": "display_data",
          "data": {
            "image/png": "[encoded data removed]",
            "text/plain": [
              "<Figure size 432x288 with 1 Axes>"
            ]
          },
          "metadata": {
            "tags": [],
            "needs_background": "light"
          }
        }
      ]
    },
    {
      "cell_type": "markdown",
      "metadata": {
        "id": "S7tXy3wQQgAm"
      },
      "source": [
        "## 2nd Normality Test (QQ)"
      ]
    },
    {
      "cell_type": "code",
      "metadata": {
        "id": "YqxenuqvJh0Q"
      },
      "source": [
        "#import numpy as np\r\n",
        "from scipy import stats\r\n",
        "import scipy as scipy"
      ],
      "execution_count": 52,
      "outputs": []
    },
    {
      "cell_type": "code",
      "metadata": {
        "colab": {
          "base_uri": "https://localhost:8080/",
          "height": 330
        },
        "id": "v-nUNhAvKXFq",
        "outputId": "54e93b7c-354c-41e6-b6de-ed0330873cba"
      },
      "source": [
        "stats.probplot(df['general_points'],plot=plt)\r\n",
        "plt.figure()"
      ],
      "execution_count": 32,
      "outputs": [
        {
          "output_type": "execute_result",
          "data": {
            "text/plain": [
              "<Figure size 432x288 with 0 Axes>"
            ]
          },
          "metadata": {
            "tags": []
          },
          "execution_count": 32
        },
        {
          "output_type": "display_data",
          "data": {
            "image/png": "[encoded data removed]",
            "text/plain": [
              "<Figure size 432x288 with 1 Axes>"
            ]
          },
          "metadata": {
            "tags": [],
            "needs_background": "light"
          }
        },
        {
          "output_type": "display_data",
          "data": {
            "text/plain": [
              "<Figure size 432x288 with 0 Axes>"
            ]
          },
          "metadata": {
            "tags": []
          }
        }
      ]
    },
    {
      "cell_type": "markdown",
      "metadata": {
        "id": "C7t8Qj-GQBMH"
      },
      "source": [
        "## 3rd Normality Test (Shapiro)"
      ]
    },
    {
      "cell_type": "code",
      "metadata": {
        "colab": {
          "base_uri": "https://localhost:8080/"
        },
        "id": "5iy3x6fcLCo-",
        "outputId": "8aa20a1c-16e6-42d0-d192-d7b440f4d860"
      },
      "source": [
        "#shairo vilk test\r\n",
        "stats.shapiro(df['general_points'])"
      ],
      "execution_count": 33,
      "outputs": [
        {
          "output_type": "execute_result",
          "data": {
            "text/plain": [
              "(0.9527729749679565, 0.41115203499794006)"
            ]
          },
          "metadata": {
            "tags": []
          },
          "execution_count": 33
        }
      ]
    },
    {
      "cell_type": "markdown",
      "metadata": {
        "id": "3oiuTaKOMuZE"
      },
      "source": [
        "we see the p-value. The p-value is the second value of the result above. The normal data has p-value 0> 0.05\r\n",
        "\r\n",
        "the p-value of the data is 0.41115203499794006.\r\n",
        ".\r\n",
        "The data above is normal because the **p-value > 0.05**"
      ]
    },
    {
      "cell_type": "markdown",
      "metadata": {
        "id": "wXj-SuD5TbCr"
      },
      "source": [
        "## 4th Normality Test (D'Agostin's K-squared test)"
      ]
    },
    {
      "cell_type": "code",
      "metadata": {
        "colab": {
          "base_uri": "https://localhost:8080/"
        },
        "id": "jTuWrG3IS9oy",
        "outputId": "931252c9-f5e8-4e4a-c91d-18dcaf4504ee"
      },
      "source": [
        "stats.normaltest(df['general_points'])"
      ],
      "execution_count": 119,
      "outputs": [
        {
          "output_type": "execute_result",
          "data": {
            "text/plain": [
              "NormaltestResult(statistic=1.946940724454761, pvalue=0.3777697627355659)"
            ]
          },
          "metadata": {
            "tags": []
          },
          "execution_count": 119
        }
      ]
    },
    {
      "cell_type": "markdown",
      "metadata": {
        "id": "zsUbZZPOTFmI"
      },
      "source": [
        "If the p-value> 0.05, the distribution of the data is normal. Above we have 0.377. The data distribution is normal"
      ]
    },
    {
      "cell_type": "markdown",
      "metadata": {
        "id": "ESkvbiHyT-5t"
      },
      "source": [
        "## 5th Normality Test (Chi-Square)"
      ]
    },
    {
      "cell_type": "code",
      "metadata": {
        "colab": {
          "base_uri": "https://localhost:8080/"
        },
        "id": "rgyWFbFxTrTx",
        "outputId": "341654ce-2896-4f97-9cc3-585a5c67a27c"
      },
      "source": [
        "stats.chisquare(df['general_points'])"
      ],
      "execution_count": 120,
      "outputs": [
        {
          "output_type": "execute_result",
          "data": {
            "text/plain": [
              "Power_divergenceResult(statistic=156.87464920486434, pvalue=1.0256897213475428e-23)"
            ]
          },
          "metadata": {
            "tags": []
          },
          "execution_count": 120
        }
      ]
    },
    {
      "cell_type": "markdown",
      "metadata": {
        "id": "jk9SgJtzT6xO"
      },
      "source": [
        "If the p-value> 0.05, the distribution of the data is normal. Above we have 1.02. The data distribution is normal"
      ]
    },
    {
      "cell_type": "markdown",
      "metadata": {
        "id": "qzSgmB_dMsLw"
      },
      "source": [
        "# 3. Which team has the best attack?\r\n",
        "\r\n"
      ]
    },
    {
      "cell_type": "markdown",
      "metadata": {
        "id": "VHiu-uP0MZTR"
      },
      "source": [
        "There some columns which have prefix 'attack'. We will sum them and sort them to find the maximum value "
      ]
    },
    {
      "cell_type": "code",
      "metadata": {
        "colab": {
          "base_uri": "https://localhost:8080/",
          "height": 217
        },
        "id": "tNf8PreUgWY3",
        "outputId": "bcab0552-4569-4e74-8710-b9bf7ca9b782"
      },
      "source": [
        "attack = df.filter(regex='attack')\r\n",
        "attack.head()"
      ],
      "execution_count": 34,
      "outputs": [
        {
          "output_type": "execute_result",
          "data": {
            "text/html": [
              "<div>\n",
              "<style scoped>\n",
              "    .dataframe tbody tr th:only-of-type {\n",
              "        vertical-align: middle;\n",
              "    }\n",
              "\n",
              "    .dataframe tbody tr th {\n",
              "        vertical-align: top;\n",
              "    }\n",
              "\n",
              "    .dataframe thead th {\n",
              "        text-align: right;\n",
              "    }\n",
              "</style>\n",
              "<table border=\"1\" class=\"dataframe\">\n",
              "  <thead>\n",
              "    <tr style=\"text-align: right;\">\n",
              "      <th></th>\n",
              "      <th>attack_scored</th>\n",
              "      <th>attack_passes</th>\n",
              "      <th>attack_passes_through</th>\n",
              "      <th>attack_passes_long</th>\n",
              "      <th>attack_passes_back</th>\n",
              "      <th>attack_crosses</th>\n",
              "      <th>attack_corners_taken</th>\n",
              "      <th>attack_shots</th>\n",
              "      <th>attack_shots_on_target</th>\n",
              "      <th>attack_goals_headed</th>\n",
              "      <th>attack_goals_penalty</th>\n",
              "      <th>attack_goals_box</th>\n",
              "      <th>attack_goals_outsidebox</th>\n",
              "      <th>attack_goals_counter</th>\n",
              "      <th>attack_goals_freekick</th>\n",
              "      <th>attack_posession</th>\n",
              "      <th>attack_pass_accuracy</th>\n",
              "    </tr>\n",
              "  </thead>\n",
              "  <tbody>\n",
              "    <tr>\n",
              "      <th>0</th>\n",
              "      <td>95</td>\n",
              "      <td>26581</td>\n",
              "      <td>112</td>\n",
              "      <td>1814</td>\n",
              "      <td>4240</td>\n",
              "      <td>783</td>\n",
              "      <td>298</td>\n",
              "      <td>683</td>\n",
              "      <td>260</td>\n",
              "      <td>12</td>\n",
              "      <td>3</td>\n",
              "      <td>80</td>\n",
              "      <td>15</td>\n",
              "      <td>5</td>\n",
              "      <td>2</td>\n",
              "      <td>64.0</td>\n",
              "      <td>89.0</td>\n",
              "    </tr>\n",
              "    <tr>\n",
              "      <th>1</th>\n",
              "      <td>89</td>\n",
              "      <td>23638</td>\n",
              "      <td>98</td>\n",
              "      <td>2250</td>\n",
              "      <td>3416</td>\n",
              "      <td>721</td>\n",
              "      <td>249</td>\n",
              "      <td>575</td>\n",
              "      <td>226</td>\n",
              "      <td>19</td>\n",
              "      <td>7</td>\n",
              "      <td>84</td>\n",
              "      <td>5</td>\n",
              "      <td>6</td>\n",
              "      <td>1</td>\n",
              "      <td>58.8</td>\n",
              "      <td>84.4</td>\n",
              "    </tr>\n",
              "    <tr>\n",
              "      <th>2</th>\n",
              "      <td>63</td>\n",
              "      <td>25070</td>\n",
              "      <td>146</td>\n",
              "      <td>1774</td>\n",
              "      <td>3874</td>\n",
              "      <td>692</td>\n",
              "      <td>215</td>\n",
              "      <td>607</td>\n",
              "      <td>198</td>\n",
              "      <td>8</td>\n",
              "      <td>5</td>\n",
              "      <td>54</td>\n",
              "      <td>9</td>\n",
              "      <td>1</td>\n",
              "      <td>1</td>\n",
              "      <td>59.9</td>\n",
              "      <td>87.6</td>\n",
              "    </tr>\n",
              "    <tr>\n",
              "      <th>3</th>\n",
              "      <td>67</td>\n",
              "      <td>21295</td>\n",
              "      <td>87</td>\n",
              "      <td>2267</td>\n",
              "      <td>3191</td>\n",
              "      <td>643</td>\n",
              "      <td>194</td>\n",
              "      <td>537</td>\n",
              "      <td>189</td>\n",
              "      <td>14</td>\n",
              "      <td>4</td>\n",
              "      <td>53</td>\n",
              "      <td>14</td>\n",
              "      <td>5</td>\n",
              "      <td>2</td>\n",
              "      <td>56.7</td>\n",
              "      <td>83.2</td>\n",
              "    </tr>\n",
              "    <tr>\n",
              "      <th>4</th>\n",
              "      <td>73</td>\n",
              "      <td>20805</td>\n",
              "      <td>65</td>\n",
              "      <td>2062</td>\n",
              "      <td>3102</td>\n",
              "      <td>605</td>\n",
              "      <td>209</td>\n",
              "      <td>467</td>\n",
              "      <td>170</td>\n",
              "      <td>5</td>\n",
              "      <td>4</td>\n",
              "      <td>62</td>\n",
              "      <td>11</td>\n",
              "      <td>3</td>\n",
              "      <td>3</td>\n",
              "      <td>56.1</td>\n",
              "      <td>83.3</td>\n",
              "    </tr>\n",
              "  </tbody>\n",
              "</table>\n",
              "</div>"
            ],
            "text/plain": [
              "   attack_scored  attack_passes  ...  attack_posession  attack_pass_accuracy\n",
              "0             95          26581  ...              64.0                  89.0\n",
              "1             89          23638  ...              58.8                  84.4\n",
              "2             63          25070  ...              59.9                  87.6\n",
              "3             67          21295  ...              56.7                  83.2\n",
              "4             73          20805  ...              56.1                  83.3\n",
              "\n",
              "[5 rows x 17 columns]"
            ]
          },
          "metadata": {
            "tags": []
          },
          "execution_count": 34
        }
      ]
    },
    {
      "cell_type": "code",
      "metadata": {
        "colab": {
          "base_uri": "https://localhost:8080/"
        },
        "id": "CuciKwUbc1KJ",
        "outputId": "b0b09522-fd3c-4ba5-9b71-9eda8726fbe4"
      },
      "source": [
        "attack.dtypes"
      ],
      "execution_count": 35,
      "outputs": [
        {
          "output_type": "execute_result",
          "data": {
            "text/plain": [
              "attack_scored                int64\n",
              "attack_passes                int64\n",
              "attack_passes_through        int64\n",
              "attack_passes_long           int64\n",
              "attack_passes_back           int64\n",
              "attack_crosses               int64\n",
              "attack_corners_taken         int64\n",
              "attack_shots                 int64\n",
              "attack_shots_on_target       int64\n",
              "attack_goals_headed          int64\n",
              "attack_goals_penalty         int64\n",
              "attack_goals_box             int64\n",
              "attack_goals_outsidebox      int64\n",
              "attack_goals_counter         int64\n",
              "attack_goals_freekick        int64\n",
              "attack_posession           float64\n",
              "attack_pass_accuracy       float64\n",
              "dtype: object"
            ]
          },
          "metadata": {
            "tags": []
          },
          "execution_count": 35
        }
      ]
    },
    {
      "cell_type": "code",
      "metadata": {
        "colab": {
          "base_uri": "https://localhost:8080/",
          "height": 177
        },
        "id": "H2YZJ73eAv74",
        "outputId": "39a3cb84-c50e-42e0-d273-c07f21b53418"
      },
      "source": [
        "df['sum_attack'] = attack.sum(axis=1)               #create new column as the sum of all column with  prefix 'attack...'\r\n",
        "df.head(2)"
      ],
      "execution_count": 59,
      "outputs": [
        {
          "output_type": "execute_result",
          "data": {
            "text/html": [
              "<div>\n",
              "<style scoped>\n",
              "    .dataframe tbody tr th:only-of-type {\n",
              "        vertical-align: middle;\n",
              "    }\n",
              "\n",
              "    .dataframe tbody tr th {\n",
              "        vertical-align: top;\n",
              "    }\n",
              "\n",
              "    .dataframe thead th {\n",
              "        text-align: right;\n",
              "    }\n",
              "</style>\n",
              "<table border=\"1\" class=\"dataframe\">\n",
              "  <thead>\n",
              "    <tr style=\"text-align: right;\">\n",
              "      <th></th>\n",
              "      <th>Team</th>\n",
              "      <th>category</th>\n",
              "      <th>general_league_position</th>\n",
              "      <th>finance _live_games_televised</th>\n",
              "      <th>finance _tv_revenue</th>\n",
              "      <th>general_matches_played</th>\n",
              "      <th>general_won</th>\n",
              "      <th>general_draw</th>\n",
              "      <th>general_lost</th>\n",
              "      <th>attack_scored</th>\n",
              "      <th>defence_goals_conceeded</th>\n",
              "      <th>general_goal_difference</th>\n",
              "      <th>general_points</th>\n",
              "      <th>general_squad_size</th>\n",
              "      <th>general_squad_average_age</th>\n",
              "      <th>general_squad_foreigners</th>\n",
              "      <th>finance _team_market</th>\n",
              "      <th>finance _market_average</th>\n",
              "      <th>attack_passes</th>\n",
              "      <th>attack_passes_through</th>\n",
              "      <th>attack_passes_long</th>\n",
              "      <th>attack_passes_back</th>\n",
              "      <th>attack_crosses</th>\n",
              "      <th>attack_corners_taken</th>\n",
              "      <th>attack_shots</th>\n",
              "      <th>attack_shots_on_target</th>\n",
              "      <th>attack_goals_headed</th>\n",
              "      <th>attack_goals_penalty</th>\n",
              "      <th>attack_goals_box</th>\n",
              "      <th>attack_goals_outsidebox</th>\n",
              "      <th>general_card_yellow</th>\n",
              "      <th>general_card_red</th>\n",
              "      <th>attack_goals_counter</th>\n",
              "      <th>attack_goals_freekick</th>\n",
              "      <th>defence_saves</th>\n",
              "      <th>defence_blocks</th>\n",
              "      <th>defence_interceptions</th>\n",
              "      <th>defence_tackles</th>\n",
              "      <th>defence_tackles_last_man</th>\n",
              "      <th>defence_clearances</th>\n",
              "      <th>defence_clearances_headed</th>\n",
              "      <th>defence_penalty_conceeded</th>\n",
              "      <th>attack_posession</th>\n",
              "      <th>attack_pass_accuracy</th>\n",
              "      <th>sum_attack</th>\n",
              "    </tr>\n",
              "  </thead>\n",
              "  <tbody>\n",
              "    <tr>\n",
              "      <th>0</th>\n",
              "      <td>Manchester City</td>\n",
              "      <td>Champions League</td>\n",
              "      <td>1</td>\n",
              "      <td>26</td>\n",
              "      <td>150986355</td>\n",
              "      <td>38</td>\n",
              "      <td>32</td>\n",
              "      <td>2</td>\n",
              "      <td>4</td>\n",
              "      <td>95</td>\n",
              "      <td>23</td>\n",
              "      <td>72</td>\n",
              "      <td>98</td>\n",
              "      <td>25</td>\n",
              "      <td>27.1</td>\n",
              "      <td>20</td>\n",
              "      <td>1003200000</td>\n",
              "      <td>39987200</td>\n",
              "      <td>26581</td>\n",
              "      <td>112</td>\n",
              "      <td>1814</td>\n",
              "      <td>4240</td>\n",
              "      <td>783</td>\n",
              "      <td>298</td>\n",
              "      <td>683</td>\n",
              "      <td>260</td>\n",
              "      <td>12</td>\n",
              "      <td>3</td>\n",
              "      <td>80</td>\n",
              "      <td>15</td>\n",
              "      <td>44</td>\n",
              "      <td>1</td>\n",
              "      <td>5</td>\n",
              "      <td>2</td>\n",
              "      <td>58</td>\n",
              "      <td>63</td>\n",
              "      <td>362</td>\n",
              "      <td>518</td>\n",
              "      <td>0</td>\n",
              "      <td>543</td>\n",
              "      <td>295</td>\n",
              "      <td>4</td>\n",
              "      <td>64.0</td>\n",
              "      <td>89.0</td>\n",
              "      <td>35136.0</td>\n",
              "    </tr>\n",
              "    <tr>\n",
              "      <th>1</th>\n",
              "      <td>Liverpool</td>\n",
              "      <td>Champions League</td>\n",
              "      <td>2</td>\n",
              "      <td>29</td>\n",
              "      <td>152425146</td>\n",
              "      <td>38</td>\n",
              "      <td>30</td>\n",
              "      <td>7</td>\n",
              "      <td>1</td>\n",
              "      <td>89</td>\n",
              "      <td>22</td>\n",
              "      <td>67</td>\n",
              "      <td>97</td>\n",
              "      <td>24</td>\n",
              "      <td>26.8</td>\n",
              "      <td>16</td>\n",
              "      <td>836440000</td>\n",
              "      <td>34848000</td>\n",
              "      <td>23638</td>\n",
              "      <td>98</td>\n",
              "      <td>2250</td>\n",
              "      <td>3416</td>\n",
              "      <td>721</td>\n",
              "      <td>249</td>\n",
              "      <td>575</td>\n",
              "      <td>226</td>\n",
              "      <td>19</td>\n",
              "      <td>7</td>\n",
              "      <td>84</td>\n",
              "      <td>5</td>\n",
              "      <td>38</td>\n",
              "      <td>2</td>\n",
              "      <td>6</td>\n",
              "      <td>1</td>\n",
              "      <td>76</td>\n",
              "      <td>78</td>\n",
              "      <td>314</td>\n",
              "      <td>610</td>\n",
              "      <td>2</td>\n",
              "      <td>639</td>\n",
              "      <td>317</td>\n",
              "      <td>1</td>\n",
              "      <td>58.8</td>\n",
              "      <td>84.4</td>\n",
              "      <td>31527.2</td>\n",
              "    </tr>\n",
              "  </tbody>\n",
              "</table>\n",
              "</div>"
            ],
            "text/plain": [
              "              Team          category  ...  attack_pass_accuracy  sum_attack\n",
              "0  Manchester City  Champions League  ...                  89.0     35136.0\n",
              "1        Liverpool  Champions League  ...                  84.4     31527.2\n",
              "\n",
              "[2 rows x 45 columns]"
            ]
          },
          "metadata": {
            "tags": []
          },
          "execution_count": 59
        }
      ]
    },
    {
      "cell_type": "code",
      "metadata": {
        "colab": {
          "base_uri": "https://localhost:8080/",
          "height": 77
        },
        "id": "o1y3GRJ3G45H",
        "outputId": "5ed32054-1155-4f12-c18f-66219ee66e38"
      },
      "source": [
        "best_attack = df[['Team', 'sum_attack']].sort_values('sum_attack', ascending=False)\r\n",
        "best_attack.head(1)"
      ],
      "execution_count": 60,
      "outputs": [
        {
          "output_type": "execute_result",
          "data": {
            "text/html": [
              "<div>\n",
              "<style scoped>\n",
              "    .dataframe tbody tr th:only-of-type {\n",
              "        vertical-align: middle;\n",
              "    }\n",
              "\n",
              "    .dataframe tbody tr th {\n",
              "        vertical-align: top;\n",
              "    }\n",
              "\n",
              "    .dataframe thead th {\n",
              "        text-align: right;\n",
              "    }\n",
              "</style>\n",
              "<table border=\"1\" class=\"dataframe\">\n",
              "  <thead>\n",
              "    <tr style=\"text-align: right;\">\n",
              "      <th></th>\n",
              "      <th>Team</th>\n",
              "      <th>sum_attack</th>\n",
              "    </tr>\n",
              "  </thead>\n",
              "  <tbody>\n",
              "    <tr>\n",
              "      <th>0</th>\n",
              "      <td>Manchester City</td>\n",
              "      <td>35136.0</td>\n",
              "    </tr>\n",
              "  </tbody>\n",
              "</table>\n",
              "</div>"
            ],
            "text/plain": [
              "              Team  sum_attack\n",
              "0  Manchester City     35136.0"
            ]
          },
          "metadata": {
            "tags": []
          },
          "execution_count": 60
        }
      ]
    },
    {
      "cell_type": "markdown",
      "metadata": {
        "id": "uzJIxfOZH2md"
      },
      "source": [
        "Based on the sum of attack score, Manchester City has the best attack."
      ]
    },
    {
      "cell_type": "code",
      "metadata": {
        "colab": {
          "base_uri": "https://localhost:8080/",
          "height": 330
        },
        "id": "iniLGePSJrcc",
        "outputId": "3af6a0eb-164c-4360-89fd-0335b50b6af6"
      },
      "source": [
        "import matplotlib.pyplot as plt\r\n",
        "\r\n",
        "plt.figure(figsize=(30,8))\r\n",
        "plt.bar(best_attack['Team'], best_attack['sum_attack'],)\r\n",
        "plt.title('Best Attack Team')\r\n",
        "plt.xlabel('Team')\r\n",
        "plt.ylabel('Sum of Attack')\r\n",
        "plt.show()"
      ],
      "execution_count": 85,
      "outputs": [
        {
          "output_type": "display_data",
          "data": {
            "image/png": "[encoded data removed]",
            "text/plain": [
              "<Figure size 2160x576 with 1 Axes>"
            ]
          },
          "metadata": {
            "tags": [],
            "needs_background": "light"
          }
        }
      ]
    },
    {
      "cell_type": "markdown",
      "metadata": {
        "id": "ZRSNIoBhPD_x"
      },
      "source": [
        "# 4. Which team has the best defence?"
      ]
    },
    {
      "cell_type": "markdown",
      "metadata": {
        "id": "ulJD4CfWVGZ_"
      },
      "source": [
        "There some columns which have prefix 'defence'. We will sum them and sort them to find the maximum value "
      ]
    },
    {
      "cell_type": "code",
      "metadata": {
        "colab": {
          "base_uri": "https://localhost:8080/",
          "height": 217
        },
        "id": "wTxCSAMBMUfF",
        "outputId": "114556cd-8b1f-4c5d-909f-a3c3b9740916"
      },
      "source": [
        "defence = df.filter(regex='defence')\r\n",
        "defence.head()"
      ],
      "execution_count": 89,
      "outputs": [
        {
          "output_type": "execute_result",
          "data": {
            "text/html": [
              "<div>\n",
              "<style scoped>\n",
              "    .dataframe tbody tr th:only-of-type {\n",
              "        vertical-align: middle;\n",
              "    }\n",
              "\n",
              "    .dataframe tbody tr th {\n",
              "        vertical-align: top;\n",
              "    }\n",
              "\n",
              "    .dataframe thead th {\n",
              "        text-align: right;\n",
              "    }\n",
              "</style>\n",
              "<table border=\"1\" class=\"dataframe\">\n",
              "  <thead>\n",
              "    <tr style=\"text-align: right;\">\n",
              "      <th></th>\n",
              "      <th>defence_goals_conceeded</th>\n",
              "      <th>defence_saves</th>\n",
              "      <th>defence_blocks</th>\n",
              "      <th>defence_interceptions</th>\n",
              "      <th>defence_tackles</th>\n",
              "      <th>defence_tackles_last_man</th>\n",
              "      <th>defence_clearances</th>\n",
              "      <th>defence_clearances_headed</th>\n",
              "      <th>defence_penalty_conceeded</th>\n",
              "    </tr>\n",
              "  </thead>\n",
              "  <tbody>\n",
              "    <tr>\n",
              "      <th>0</th>\n",
              "      <td>23</td>\n",
              "      <td>58</td>\n",
              "      <td>63</td>\n",
              "      <td>362</td>\n",
              "      <td>518</td>\n",
              "      <td>0</td>\n",
              "      <td>543</td>\n",
              "      <td>295</td>\n",
              "      <td>4</td>\n",
              "    </tr>\n",
              "    <tr>\n",
              "      <th>1</th>\n",
              "      <td>22</td>\n",
              "      <td>76</td>\n",
              "      <td>78</td>\n",
              "      <td>314</td>\n",
              "      <td>610</td>\n",
              "      <td>2</td>\n",
              "      <td>639</td>\n",
              "      <td>317</td>\n",
              "      <td>1</td>\n",
              "    </tr>\n",
              "    <tr>\n",
              "      <th>2</th>\n",
              "      <td>39</td>\n",
              "      <td>85</td>\n",
              "      <td>73</td>\n",
              "      <td>351</td>\n",
              "      <td>618</td>\n",
              "      <td>2</td>\n",
              "      <td>593</td>\n",
              "      <td>330</td>\n",
              "      <td>2</td>\n",
              "    </tr>\n",
              "    <tr>\n",
              "      <th>3</th>\n",
              "      <td>39</td>\n",
              "      <td>121</td>\n",
              "      <td>112</td>\n",
              "      <td>326</td>\n",
              "      <td>626</td>\n",
              "      <td>3</td>\n",
              "      <td>770</td>\n",
              "      <td>411</td>\n",
              "      <td>5</td>\n",
              "    </tr>\n",
              "    <tr>\n",
              "      <th>4</th>\n",
              "      <td>51</td>\n",
              "      <td>133</td>\n",
              "      <td>118</td>\n",
              "      <td>412</td>\n",
              "      <td>609</td>\n",
              "      <td>2</td>\n",
              "      <td>762</td>\n",
              "      <td>404</td>\n",
              "      <td>7</td>\n",
              "    </tr>\n",
              "  </tbody>\n",
              "</table>\n",
              "</div>"
            ],
            "text/plain": [
              "   defence_goals_conceeded  ...  defence_penalty_conceeded\n",
              "0                       23  ...                          4\n",
              "1                       22  ...                          1\n",
              "2                       39  ...                          2\n",
              "3                       39  ...                          5\n",
              "4                       51  ...                          7\n",
              "\n",
              "[5 rows x 9 columns]"
            ]
          },
          "metadata": {
            "tags": []
          },
          "execution_count": 89
        }
      ]
    },
    {
      "cell_type": "code",
      "metadata": {
        "colab": {
          "base_uri": "https://localhost:8080/"
        },
        "id": "iPLTLT45MpSh",
        "outputId": "4e6fec8d-d81f-42a9-ee91-0dee21727cc7"
      },
      "source": [
        "defence.dtypes"
      ],
      "execution_count": 90,
      "outputs": [
        {
          "output_type": "execute_result",
          "data": {
            "text/plain": [
              "defence_goals_conceeded      int64\n",
              "defence_saves                int64\n",
              "defence_blocks               int64\n",
              "defence_interceptions        int64\n",
              "defence_tackles              int64\n",
              "defence_tackles_last_man     int64\n",
              "defence_clearances           int64\n",
              "defence_clearances_headed    int64\n",
              "defence_penalty_conceeded    int64\n",
              "dtype: object"
            ]
          },
          "metadata": {
            "tags": []
          },
          "execution_count": 90
        }
      ]
    },
    {
      "cell_type": "code",
      "metadata": {
        "colab": {
          "base_uri": "https://localhost:8080/",
          "height": 0
        },
        "id": "-RYCUyA7M0MJ",
        "outputId": "2e2fad16-8311-4b90-cb03-c2b957798daa"
      },
      "source": [
        "df['sum_defence'] = defence.sum(axis=1)               #create new column as the sum of all column with  prefix 'defence...'\r\n",
        "df.head(2)"
      ],
      "execution_count": 92,
      "outputs": [
        {
          "output_type": "execute_result",
          "data": {
            "text/html": [
              "<div>\n",
              "<style scoped>\n",
              "    .dataframe tbody tr th:only-of-type {\n",
              "        vertical-align: middle;\n",
              "    }\n",
              "\n",
              "    .dataframe tbody tr th {\n",
              "        vertical-align: top;\n",
              "    }\n",
              "\n",
              "    .dataframe thead th {\n",
              "        text-align: right;\n",
              "    }\n",
              "</style>\n",
              "<table border=\"1\" class=\"dataframe\">\n",
              "  <thead>\n",
              "    <tr style=\"text-align: right;\">\n",
              "      <th></th>\n",
              "      <th>Team</th>\n",
              "      <th>category</th>\n",
              "      <th>general_league_position</th>\n",
              "      <th>finance _live_games_televised</th>\n",
              "      <th>finance _tv_revenue</th>\n",
              "      <th>general_matches_played</th>\n",
              "      <th>general_won</th>\n",
              "      <th>general_draw</th>\n",
              "      <th>general_lost</th>\n",
              "      <th>attack_scored</th>\n",
              "      <th>defence_goals_conceeded</th>\n",
              "      <th>general_goal_difference</th>\n",
              "      <th>general_points</th>\n",
              "      <th>general_squad_size</th>\n",
              "      <th>general_squad_average_age</th>\n",
              "      <th>general_squad_foreigners</th>\n",
              "      <th>finance _team_market</th>\n",
              "      <th>finance _market_average</th>\n",
              "      <th>attack_passes</th>\n",
              "      <th>attack_passes_through</th>\n",
              "      <th>attack_passes_long</th>\n",
              "      <th>attack_passes_back</th>\n",
              "      <th>attack_crosses</th>\n",
              "      <th>attack_corners_taken</th>\n",
              "      <th>attack_shots</th>\n",
              "      <th>attack_shots_on_target</th>\n",
              "      <th>attack_goals_headed</th>\n",
              "      <th>attack_goals_penalty</th>\n",
              "      <th>attack_goals_box</th>\n",
              "      <th>attack_goals_outsidebox</th>\n",
              "      <th>general_card_yellow</th>\n",
              "      <th>general_card_red</th>\n",
              "      <th>attack_goals_counter</th>\n",
              "      <th>attack_goals_freekick</th>\n",
              "      <th>defence_saves</th>\n",
              "      <th>defence_blocks</th>\n",
              "      <th>defence_interceptions</th>\n",
              "      <th>defence_tackles</th>\n",
              "      <th>defence_tackles_last_man</th>\n",
              "      <th>defence_clearances</th>\n",
              "      <th>defence_clearances_headed</th>\n",
              "      <th>defence_penalty_conceeded</th>\n",
              "      <th>attack_posession</th>\n",
              "      <th>attack_pass_accuracy</th>\n",
              "      <th>sum_attack</th>\n",
              "      <th>sum_defence</th>\n",
              "    </tr>\n",
              "  </thead>\n",
              "  <tbody>\n",
              "    <tr>\n",
              "      <th>0</th>\n",
              "      <td>Manchester City</td>\n",
              "      <td>Champions League</td>\n",
              "      <td>1</td>\n",
              "      <td>26</td>\n",
              "      <td>150986355</td>\n",
              "      <td>38</td>\n",
              "      <td>32</td>\n",
              "      <td>2</td>\n",
              "      <td>4</td>\n",
              "      <td>95</td>\n",
              "      <td>23</td>\n",
              "      <td>72</td>\n",
              "      <td>98</td>\n",
              "      <td>25</td>\n",
              "      <td>27.1</td>\n",
              "      <td>20</td>\n",
              "      <td>1003200000</td>\n",
              "      <td>39987200</td>\n",
              "      <td>26581</td>\n",
              "      <td>112</td>\n",
              "      <td>1814</td>\n",
              "      <td>4240</td>\n",
              "      <td>783</td>\n",
              "      <td>298</td>\n",
              "      <td>683</td>\n",
              "      <td>260</td>\n",
              "      <td>12</td>\n",
              "      <td>3</td>\n",
              "      <td>80</td>\n",
              "      <td>15</td>\n",
              "      <td>44</td>\n",
              "      <td>1</td>\n",
              "      <td>5</td>\n",
              "      <td>2</td>\n",
              "      <td>58</td>\n",
              "      <td>63</td>\n",
              "      <td>362</td>\n",
              "      <td>518</td>\n",
              "      <td>0</td>\n",
              "      <td>543</td>\n",
              "      <td>295</td>\n",
              "      <td>4</td>\n",
              "      <td>64.0</td>\n",
              "      <td>89.0</td>\n",
              "      <td>35136.0</td>\n",
              "      <td>1866</td>\n",
              "    </tr>\n",
              "    <tr>\n",
              "      <th>1</th>\n",
              "      <td>Liverpool</td>\n",
              "      <td>Champions League</td>\n",
              "      <td>2</td>\n",
              "      <td>29</td>\n",
              "      <td>152425146</td>\n",
              "      <td>38</td>\n",
              "      <td>30</td>\n",
              "      <td>7</td>\n",
              "      <td>1</td>\n",
              "      <td>89</td>\n",
              "      <td>22</td>\n",
              "      <td>67</td>\n",
              "      <td>97</td>\n",
              "      <td>24</td>\n",
              "      <td>26.8</td>\n",
              "      <td>16</td>\n",
              "      <td>836440000</td>\n",
              "      <td>34848000</td>\n",
              "      <td>23638</td>\n",
              "      <td>98</td>\n",
              "      <td>2250</td>\n",
              "      <td>3416</td>\n",
              "      <td>721</td>\n",
              "      <td>249</td>\n",
              "      <td>575</td>\n",
              "      <td>226</td>\n",
              "      <td>19</td>\n",
              "      <td>7</td>\n",
              "      <td>84</td>\n",
              "      <td>5</td>\n",
              "      <td>38</td>\n",
              "      <td>2</td>\n",
              "      <td>6</td>\n",
              "      <td>1</td>\n",
              "      <td>76</td>\n",
              "      <td>78</td>\n",
              "      <td>314</td>\n",
              "      <td>610</td>\n",
              "      <td>2</td>\n",
              "      <td>639</td>\n",
              "      <td>317</td>\n",
              "      <td>1</td>\n",
              "      <td>58.8</td>\n",
              "      <td>84.4</td>\n",
              "      <td>31527.2</td>\n",
              "      <td>2059</td>\n",
              "    </tr>\n",
              "  </tbody>\n",
              "</table>\n",
              "</div>"
            ],
            "text/plain": [
              "              Team          category  ...  sum_attack  sum_defence\n",
              "0  Manchester City  Champions League  ...     35136.0         1866\n",
              "1        Liverpool  Champions League  ...     31527.2         2059\n",
              "\n",
              "[2 rows x 46 columns]"
            ]
          },
          "metadata": {
            "tags": []
          },
          "execution_count": 92
        }
      ]
    },
    {
      "cell_type": "code",
      "metadata": {
        "colab": {
          "base_uri": "https://localhost:8080/",
          "height": 0
        },
        "id": "oYO2uduKNCit",
        "outputId": "07fa7f01-b3dd-4cfa-ae49-ae163359a9f5"
      },
      "source": [
        "best_defence = df[['Team', 'sum_defence']].sort_values('sum_defence', ascending=False)\r\n",
        "best_defence.head(1)"
      ],
      "execution_count": 93,
      "outputs": [
        {
          "output_type": "execute_result",
          "data": {
            "text/html": [
              "<div>\n",
              "<style scoped>\n",
              "    .dataframe tbody tr th:only-of-type {\n",
              "        vertical-align: middle;\n",
              "    }\n",
              "\n",
              "    .dataframe tbody tr th {\n",
              "        vertical-align: top;\n",
              "    }\n",
              "\n",
              "    .dataframe thead th {\n",
              "        text-align: right;\n",
              "    }\n",
              "</style>\n",
              "<table border=\"1\" class=\"dataframe\">\n",
              "  <thead>\n",
              "    <tr style=\"text-align: right;\">\n",
              "      <th></th>\n",
              "      <th>Team</th>\n",
              "      <th>sum_defence</th>\n",
              "    </tr>\n",
              "  </thead>\n",
              "  <tbody>\n",
              "    <tr>\n",
              "      <th>12</th>\n",
              "      <td>Newcastle</td>\n",
              "      <td>3192</td>\n",
              "    </tr>\n",
              "  </tbody>\n",
              "</table>\n",
              "</div>"
            ],
            "text/plain": [
              "         Team  sum_defence\n",
              "12  Newcastle         3192"
            ]
          },
          "metadata": {
            "tags": []
          },
          "execution_count": 93
        }
      ]
    },
    {
      "cell_type": "code",
      "metadata": {
        "colab": {
          "base_uri": "https://localhost:8080/",
          "height": 0
        },
        "id": "fmpHnv-PNV3u",
        "outputId": "ecbe67f1-9ae0-4af0-89ed-df280765d132"
      },
      "source": [
        "plt.figure(figsize=(30,8))\r\n",
        "plt.bar(best_defence['Team'], best_defence['sum_defence'],)\r\n",
        "plt.title('Best Defence Team')\r\n",
        "plt.xlabel('Team')\r\n",
        "plt.ylabel('Sum of Defence')\r\n",
        "plt.show()"
      ],
      "execution_count": 94,
      "outputs": [
        {
          "output_type": "display_data",
          "data": {
            "image/png": "[encoded data removed]",
            "text/plain": [
              "<Figure size 2160x576 with 1 Axes>"
            ]
          },
          "metadata": {
            "tags": [],
            "needs_background": "light"
          }
        }
      ]
    },
    {
      "cell_type": "markdown",
      "metadata": {
        "id": "5Cp7BcMONOEr"
      },
      "source": [
        "Based on the sum of attack score, Newcastle has the best defence."
      ]
    },
    {
      "cell_type": "markdown",
      "metadata": {
        "id": "6K5sffEzJhHL"
      },
      "source": [
        "# 5. Which team is good in financial aspect?"
      ]
    },
    {
      "cell_type": "markdown",
      "metadata": {
        "id": "qBa2NdtdOnFP"
      },
      "source": [
        "There some columns which have prefix 'finance'. We will sum them and sort them to find the maximum value "
      ]
    },
    {
      "cell_type": "code",
      "metadata": {
        "colab": {
          "base_uri": "https://localhost:8080/",
          "height": 197
        },
        "id": "GrSE2jdkO2Vp",
        "outputId": "8e8956f5-6d5c-4bbf-b85a-d9c451caef6a"
      },
      "source": [
        "finance = df.filter(regex='finance')\r\n",
        "finance.head()"
      ],
      "execution_count": 95,
      "outputs": [
        {
          "output_type": "execute_result",
          "data": {
            "text/html": [
              "<div>\n",
              "<style scoped>\n",
              "    .dataframe tbody tr th:only-of-type {\n",
              "        vertical-align: middle;\n",
              "    }\n",
              "\n",
              "    .dataframe tbody tr th {\n",
              "        vertical-align: top;\n",
              "    }\n",
              "\n",
              "    .dataframe thead th {\n",
              "        text-align: right;\n",
              "    }\n",
              "</style>\n",
              "<table border=\"1\" class=\"dataframe\">\n",
              "  <thead>\n",
              "    <tr style=\"text-align: right;\">\n",
              "      <th></th>\n",
              "      <th>finance _live_games_televised</th>\n",
              "      <th>finance _tv_revenue</th>\n",
              "      <th>finance _team_market</th>\n",
              "      <th>finance _market_average</th>\n",
              "    </tr>\n",
              "  </thead>\n",
              "  <tbody>\n",
              "    <tr>\n",
              "      <th>0</th>\n",
              "      <td>26</td>\n",
              "      <td>150986355</td>\n",
              "      <td>1003200000</td>\n",
              "      <td>39987200</td>\n",
              "    </tr>\n",
              "    <tr>\n",
              "      <th>1</th>\n",
              "      <td>29</td>\n",
              "      <td>152425146</td>\n",
              "      <td>836440000</td>\n",
              "      <td>34848000</td>\n",
              "    </tr>\n",
              "    <tr>\n",
              "      <th>2</th>\n",
              "      <td>25</td>\n",
              "      <td>146030216</td>\n",
              "      <td>779460000</td>\n",
              "      <td>29981600</td>\n",
              "    </tr>\n",
              "    <tr>\n",
              "      <th>3</th>\n",
              "      <td>26</td>\n",
              "      <td>145230801</td>\n",
              "      <td>735240000</td>\n",
              "      <td>29409600</td>\n",
              "    </tr>\n",
              "    <tr>\n",
              "      <th>4</th>\n",
              "      <td>25</td>\n",
              "      <td>142193180</td>\n",
              "      <td>701800000</td>\n",
              "      <td>26989600</td>\n",
              "    </tr>\n",
              "  </tbody>\n",
              "</table>\n",
              "</div>"
            ],
            "text/plain": [
              "   finance _live_games_televised  ...  finance _market_average\n",
              "0                             26  ...                 39987200\n",
              "1                             29  ...                 34848000\n",
              "2                             25  ...                 29981600\n",
              "3                             26  ...                 29409600\n",
              "4                             25  ...                 26989600\n",
              "\n",
              "[5 rows x 4 columns]"
            ]
          },
          "metadata": {
            "tags": []
          },
          "execution_count": 95
        }
      ]
    },
    {
      "cell_type": "code",
      "metadata": {
        "colab": {
          "base_uri": "https://localhost:8080/"
        },
        "id": "pljs8-qxPMWk",
        "outputId": "a00d6846-949b-4234-c794-a13f8e5272ca"
      },
      "source": [
        "finance.dtypes"
      ],
      "execution_count": 98,
      "outputs": [
        {
          "output_type": "execute_result",
          "data": {
            "text/plain": [
              "finance _live_games_televised    int64\n",
              "finance _tv_revenue              int64\n",
              "finance _team_market             int64\n",
              "finance _market_average          int64\n",
              "dtype: object"
            ]
          },
          "metadata": {
            "tags": []
          },
          "execution_count": 98
        }
      ]
    },
    {
      "cell_type": "code",
      "metadata": {
        "colab": {
          "base_uri": "https://localhost:8080/",
          "height": 177
        },
        "id": "lNEfUvGDPR_d",
        "outputId": "353f0e13-dec6-441b-e0ea-2465670b2301"
      },
      "source": [
        "df['sum_finance'] = finance.sum(axis=1)               #create new column as the sum of all column with  prefix 'attack...'\r\n",
        "df.head(2)"
      ],
      "execution_count": 97,
      "outputs": [
        {
          "output_type": "execute_result",
          "data": {
            "text/html": [
              "<div>\n",
              "<style scoped>\n",
              "    .dataframe tbody tr th:only-of-type {\n",
              "        vertical-align: middle;\n",
              "    }\n",
              "\n",
              "    .dataframe tbody tr th {\n",
              "        vertical-align: top;\n",
              "    }\n",
              "\n",
              "    .dataframe thead th {\n",
              "        text-align: right;\n",
              "    }\n",
              "</style>\n",
              "<table border=\"1\" class=\"dataframe\">\n",
              "  <thead>\n",
              "    <tr style=\"text-align: right;\">\n",
              "      <th></th>\n",
              "      <th>Team</th>\n",
              "      <th>category</th>\n",
              "      <th>general_league_position</th>\n",
              "      <th>finance _live_games_televised</th>\n",
              "      <th>finance _tv_revenue</th>\n",
              "      <th>general_matches_played</th>\n",
              "      <th>general_won</th>\n",
              "      <th>general_draw</th>\n",
              "      <th>general_lost</th>\n",
              "      <th>attack_scored</th>\n",
              "      <th>defence_goals_conceeded</th>\n",
              "      <th>general_goal_difference</th>\n",
              "      <th>general_points</th>\n",
              "      <th>general_squad_size</th>\n",
              "      <th>general_squad_average_age</th>\n",
              "      <th>general_squad_foreigners</th>\n",
              "      <th>finance _team_market</th>\n",
              "      <th>finance _market_average</th>\n",
              "      <th>attack_passes</th>\n",
              "      <th>attack_passes_through</th>\n",
              "      <th>attack_passes_long</th>\n",
              "      <th>attack_passes_back</th>\n",
              "      <th>attack_crosses</th>\n",
              "      <th>attack_corners_taken</th>\n",
              "      <th>attack_shots</th>\n",
              "      <th>attack_shots_on_target</th>\n",
              "      <th>attack_goals_headed</th>\n",
              "      <th>attack_goals_penalty</th>\n",
              "      <th>attack_goals_box</th>\n",
              "      <th>attack_goals_outsidebox</th>\n",
              "      <th>general_card_yellow</th>\n",
              "      <th>general_card_red</th>\n",
              "      <th>attack_goals_counter</th>\n",
              "      <th>attack_goals_freekick</th>\n",
              "      <th>defence_saves</th>\n",
              "      <th>defence_blocks</th>\n",
              "      <th>defence_interceptions</th>\n",
              "      <th>defence_tackles</th>\n",
              "      <th>defence_tackles_last_man</th>\n",
              "      <th>defence_clearances</th>\n",
              "      <th>defence_clearances_headed</th>\n",
              "      <th>defence_penalty_conceeded</th>\n",
              "      <th>attack_posession</th>\n",
              "      <th>attack_pass_accuracy</th>\n",
              "      <th>sum_attack</th>\n",
              "      <th>sum_defence</th>\n",
              "      <th>sum_finance</th>\n",
              "    </tr>\n",
              "  </thead>\n",
              "  <tbody>\n",
              "    <tr>\n",
              "      <th>0</th>\n",
              "      <td>Manchester City</td>\n",
              "      <td>Champions League</td>\n",
              "      <td>1</td>\n",
              "      <td>26</td>\n",
              "      <td>150986355</td>\n",
              "      <td>38</td>\n",
              "      <td>32</td>\n",
              "      <td>2</td>\n",
              "      <td>4</td>\n",
              "      <td>95</td>\n",
              "      <td>23</td>\n",
              "      <td>72</td>\n",
              "      <td>98</td>\n",
              "      <td>25</td>\n",
              "      <td>27.1</td>\n",
              "      <td>20</td>\n",
              "      <td>1003200000</td>\n",
              "      <td>39987200</td>\n",
              "      <td>26581</td>\n",
              "      <td>112</td>\n",
              "      <td>1814</td>\n",
              "      <td>4240</td>\n",
              "      <td>783</td>\n",
              "      <td>298</td>\n",
              "      <td>683</td>\n",
              "      <td>260</td>\n",
              "      <td>12</td>\n",
              "      <td>3</td>\n",
              "      <td>80</td>\n",
              "      <td>15</td>\n",
              "      <td>44</td>\n",
              "      <td>1</td>\n",
              "      <td>5</td>\n",
              "      <td>2</td>\n",
              "      <td>58</td>\n",
              "      <td>63</td>\n",
              "      <td>362</td>\n",
              "      <td>518</td>\n",
              "      <td>0</td>\n",
              "      <td>543</td>\n",
              "      <td>295</td>\n",
              "      <td>4</td>\n",
              "      <td>64.0</td>\n",
              "      <td>89.0</td>\n",
              "      <td>35136.0</td>\n",
              "      <td>1866</td>\n",
              "      <td>1194173581</td>\n",
              "    </tr>\n",
              "    <tr>\n",
              "      <th>1</th>\n",
              "      <td>Liverpool</td>\n",
              "      <td>Champions League</td>\n",
              "      <td>2</td>\n",
              "      <td>29</td>\n",
              "      <td>152425146</td>\n",
              "      <td>38</td>\n",
              "      <td>30</td>\n",
              "      <td>7</td>\n",
              "      <td>1</td>\n",
              "      <td>89</td>\n",
              "      <td>22</td>\n",
              "      <td>67</td>\n",
              "      <td>97</td>\n",
              "      <td>24</td>\n",
              "      <td>26.8</td>\n",
              "      <td>16</td>\n",
              "      <td>836440000</td>\n",
              "      <td>34848000</td>\n",
              "      <td>23638</td>\n",
              "      <td>98</td>\n",
              "      <td>2250</td>\n",
              "      <td>3416</td>\n",
              "      <td>721</td>\n",
              "      <td>249</td>\n",
              "      <td>575</td>\n",
              "      <td>226</td>\n",
              "      <td>19</td>\n",
              "      <td>7</td>\n",
              "      <td>84</td>\n",
              "      <td>5</td>\n",
              "      <td>38</td>\n",
              "      <td>2</td>\n",
              "      <td>6</td>\n",
              "      <td>1</td>\n",
              "      <td>76</td>\n",
              "      <td>78</td>\n",
              "      <td>314</td>\n",
              "      <td>610</td>\n",
              "      <td>2</td>\n",
              "      <td>639</td>\n",
              "      <td>317</td>\n",
              "      <td>1</td>\n",
              "      <td>58.8</td>\n",
              "      <td>84.4</td>\n",
              "      <td>31527.2</td>\n",
              "      <td>2059</td>\n",
              "      <td>1023713175</td>\n",
              "    </tr>\n",
              "  </tbody>\n",
              "</table>\n",
              "</div>"
            ],
            "text/plain": [
              "              Team          category  ...  sum_defence  sum_finance\n",
              "0  Manchester City  Champions League  ...         1866   1194173581\n",
              "1        Liverpool  Champions League  ...         2059   1023713175\n",
              "\n",
              "[2 rows x 47 columns]"
            ]
          },
          "metadata": {
            "tags": []
          },
          "execution_count": 97
        }
      ]
    },
    {
      "cell_type": "code",
      "metadata": {
        "colab": {
          "base_uri": "https://localhost:8080/",
          "height": 197
        },
        "id": "Qj5AVSf2Pdb0",
        "outputId": "b9541342-d749-4819-c938-e07cae751ccc"
      },
      "source": [
        "best_finance = df[['Team', 'sum_finance']].sort_values('sum_finance', ascending=False)\r\n",
        "best_finance.head(5)"
      ],
      "execution_count": 100,
      "outputs": [
        {
          "output_type": "execute_result",
          "data": {
            "text/html": [
              "<div>\n",
              "<style scoped>\n",
              "    .dataframe tbody tr th:only-of-type {\n",
              "        vertical-align: middle;\n",
              "    }\n",
              "\n",
              "    .dataframe tbody tr th {\n",
              "        vertical-align: top;\n",
              "    }\n",
              "\n",
              "    .dataframe thead th {\n",
              "        text-align: right;\n",
              "    }\n",
              "</style>\n",
              "<table border=\"1\" class=\"dataframe\">\n",
              "  <thead>\n",
              "    <tr style=\"text-align: right;\">\n",
              "      <th></th>\n",
              "      <th>Team</th>\n",
              "      <th>sum_finance</th>\n",
              "    </tr>\n",
              "  </thead>\n",
              "  <tbody>\n",
              "    <tr>\n",
              "      <th>0</th>\n",
              "      <td>Manchester City</td>\n",
              "      <td>1194173581</td>\n",
              "    </tr>\n",
              "    <tr>\n",
              "      <th>1</th>\n",
              "      <td>Liverpool</td>\n",
              "      <td>1023713175</td>\n",
              "    </tr>\n",
              "    <tr>\n",
              "      <th>2</th>\n",
              "      <td>Chelsea</td>\n",
              "      <td>955471841</td>\n",
              "    </tr>\n",
              "    <tr>\n",
              "      <th>3</th>\n",
              "      <td>Tottenham</td>\n",
              "      <td>909880427</td>\n",
              "    </tr>\n",
              "    <tr>\n",
              "      <th>4</th>\n",
              "      <td>Arsenal</td>\n",
              "      <td>870982805</td>\n",
              "    </tr>\n",
              "  </tbody>\n",
              "</table>\n",
              "</div>"
            ],
            "text/plain": [
              "              Team  sum_finance\n",
              "0  Manchester City   1194173581\n",
              "1        Liverpool   1023713175\n",
              "2          Chelsea    955471841\n",
              "3        Tottenham    909880427\n",
              "4          Arsenal    870982805"
            ]
          },
          "metadata": {
            "tags": []
          },
          "execution_count": 100
        }
      ]
    },
    {
      "cell_type": "code",
      "metadata": {
        "colab": {
          "base_uri": "https://localhost:8080/",
          "height": 418
        },
        "id": "7umuBJ9aPlO7",
        "outputId": "25eb2fa0-37ef-45d2-8609-28b312dccd1c"
      },
      "source": [
        "plt.figure(figsize=(30,8))\r\n",
        "plt.bar(best_finance['Team'], best_finance['sum_finance'],)\r\n",
        "plt.title('Best Finance Team')\r\n",
        "plt.xlabel('Team')\r\n",
        "plt.ylabel('Sum of Finance')\r\n",
        "plt.show()"
      ],
      "execution_count": 101,
      "outputs": [
        {
          "output_type": "display_data",
          "data": {
            "image/png": "[encoded data removed]",
            "text/plain": [
              "<Figure size 2160x576 with 1 Axes>"
            ]
          },
          "metadata": {
            "tags": [],
            "needs_background": "light"
          }
        }
      ]
    },
    {
      "cell_type": "code",
      "metadata": {
        "id": "vE846iWrPyxM"
      },
      "source": [
        "Based on the sum of attack score, Manchaster City has the best finance condition."
      ],
      "execution_count": null,
      "outputs": []
    }
  ]
}